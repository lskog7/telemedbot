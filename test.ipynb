{
 "cells": [
  {
   "cell_type": "code",
   "execution_count": 1,
   "metadata": {},
   "outputs": [],
   "source": [
    "from typing import Self\n",
    "from db_model import Users, Tests, Specialists, Results, Questions, Answers, UserAnswers\n",
    "from peewee import JOIN\n",
    "\n",
    "\n",
    "class Requests:\n",
    "\n",
    "    @staticmethod\n",
    "    def users_in_db(user):\n",
    "        return Users.select(Users.telegram_id).count()\n",
    "\n",
    "    @staticmethod\n",
    "    def write_user(telegram_id):\n",
    "        u = Users(telegram_id=telegram_id, sex=0)\n",
    "        u.save()\n",
    "\n",
    "    @staticmethod\n",
    "    def user_sex(telegram_id):\n",
    "        u = Users.select().where(Users.telegram_id == telegram_id)\n",
    "        return Users.SEX_CHOICES[u[0].sex][1]\n",
    "\n",
    "    @staticmethod\n",
    "    def user_name(telegram_id):\n",
    "        u = Users.select().where(Users.telegram_id == telegram_id)\n",
    "        return u[0].name\n",
    "\n",
    "    @staticmethod\n",
    "    def user_surname(telegram_id):\n",
    "        u = Users.select().where(Users.telegram_id == telegram_id)\n",
    "        return u[0].surname\n",
    "\n",
    "    @staticmethod\n",
    "    def user_patronymic(telegram_id):\n",
    "        u = Users.select().where(Users.telegram_id == telegram_id)\n",
    "        return u[0].patronymic\n",
    "\n",
    "    @staticmethod\n",
    "    def user_b_date(telegram_id):\n",
    "        u = Users.select().where(Users.telegram_id == telegram_id)\n",
    "        return u[0].b_date\n",
    "\n",
    "    @staticmethod\n",
    "    def save_user_name(telegram_id, name):\n",
    "        u = Users.get(Users.telegram_id == telegram_id)\n",
    "        u.name = name\n",
    "        u.save()\n",
    "\n",
    "    @staticmethod\n",
    "    def save_user_surname(telegram_id, surname):\n",
    "        u = Users.get(Users.telegram_id == telegram_id)\n",
    "        u.surname = surname\n",
    "        u.save()\n",
    "\n",
    "    @staticmethod\n",
    "    def save_user_patronymic(telegram_id, patronymic):\n",
    "        u = Users.get(Users.telegram_id == telegram_id)\n",
    "        u.patronymic = patronymic\n",
    "        u.save()\n",
    "\n",
    "    @staticmethod\n",
    "    def save_user_sex(telegram_id, sex):\n",
    "        u = Users.get(Users.telegram_id == telegram_id)\n",
    "        u.sex = sex\n",
    "        u.save()\n",
    "\n",
    "    @staticmethod\n",
    "    def save_user_b_date(telegram_id, date_str):\n",
    "        u = Users.get(Users.telegram_id == telegram_id)\n",
    "        u.b_date = date_str\n",
    "        u.save()\n",
    "\n",
    "    @staticmethod\n",
    "    def get_user_next_question(telegram_id):  # Очередной неотвеченный вопрос\n",
    "        current_test = Users.select(Users.current_test).where(\n",
    "            Users.telegram_id == telegram_id\n",
    "        )\n",
    "        current_question = Users.select(Users.current_question).where(\n",
    "            Users.telegram_id == telegram_id\n",
    "        )\n",
    "        if current_test != 0:\n",
    "            if current_question == 0:\n",
    "                return 0\n",
    "            else:\n",
    "                return Questions.select(Questions.id).where(\n",
    "                    Questions.id == current_question\n",
    "                )\n",
    "        else:\n",
    "            return 0\n",
    "\n",
    "    @staticmethod\n",
    "    def get_question_answers(question_id):  # Все варианты ответов на вопрос\n",
    "        return Answers.select().where(Answers.question_id == question_id)\n",
    "\n",
    "    # Очередной неотвеченный вопрос и его варианты ответа\n",
    "    @staticmethod\n",
    "    def get_next_user_question_and_answers(telegram_id):\n",
    "        question = Requests.get_user_next_question(telegram_id)\n",
    "        if question:\n",
    "            text = Question.select().where(Question.id == question)[0].text\n",
    "            return text, Requests.get_question_answers(question)\n",
    "        else:\n",
    "            return 0"
   ]
  },
  {
   "cell_type": "code",
   "execution_count": 24,
   "metadata": {},
   "outputs": [
    {
     "data": {
      "text/plain": [
       "0"
      ]
     },
     "execution_count": 24,
     "metadata": {},
     "output_type": "execute_result"
    }
   ],
   "source": [
    "q = Tests.select(Tests.id)\n",
    "len(q)"
   ]
  },
  {
   "cell_type": "code",
   "execution_count": 1,
   "metadata": {},
   "outputs": [
    {
     "ename": "SyntaxError",
     "evalue": "invalid syntax. Perhaps you forgot a comma? (bot_requests.py, line 156)",
     "output_type": "error",
     "traceback": [
      "Traceback \u001b[1;36m(most recent call last)\u001b[0m:\n",
      "\u001b[0m  File \u001b[0;32m~\\AppData\\Roaming\\Python\\Python312\\site-packages\\IPython\\core\\interactiveshell.py:3577\u001b[0m in \u001b[0;35mrun_code\u001b[0m\n    exec(code_obj, self.user_global_ns, self.user_ns)\u001b[0m\n",
      "\u001b[1;36m  Cell \u001b[1;32mIn[1], line 1\u001b[1;36m\n\u001b[1;33m    from bot_requests import *\u001b[1;36m\n",
      "\u001b[1;36m  File \u001b[1;32mc:\\Users\\user\\vscode\\TelemedicineHackaton\\telemedbot\\bot_requests.py:156\u001b[1;36m\u001b[0m\n\u001b[1;33m    info = [0 i in range(7)]\u001b[0m\n\u001b[1;37m            ^\u001b[0m\n\u001b[1;31mSyntaxError\u001b[0m\u001b[1;31m:\u001b[0m invalid syntax. Perhaps you forgot a comma?\n"
     ]
    }
   ],
   "source": [
    "from bot_requests import *"
   ]
  },
  {
   "cell_type": "code",
   "execution_count": null,
   "metadata": {},
   "outputs": [],
   "source": []
  }
 ],
 "metadata": {
  "kernelspec": {
   "display_name": "Python 3",
   "language": "python",
   "name": "python3"
  },
  "language_info": {
   "codemirror_mode": {
    "name": "ipython",
    "version": 3
   },
   "file_extension": ".py",
   "mimetype": "text/x-python",
   "name": "python",
   "nbconvert_exporter": "python",
   "pygments_lexer": "ipython3",
   "version": "3.12.2"
  }
 },
 "nbformat": 4,
 "nbformat_minor": 2
}
